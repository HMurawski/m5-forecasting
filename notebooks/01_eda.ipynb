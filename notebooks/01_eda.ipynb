{
 "cells": [
  {
   "cell_type": "markdown",
   "id": "6a43dcb4",
   "metadata": {},
   "source": [
    "### Setup"
   ]
  },
  {
   "cell_type": "code",
   "execution_count": 1,
   "id": "63b10729",
   "metadata": {},
   "outputs": [],
   "source": [
    "import polars as pl\n",
    "from pathlib import Path"
   ]
  },
  {
   "cell_type": "code",
   "execution_count": 4,
   "id": "8649b9cf",
   "metadata": {},
   "outputs": [],
   "source": [
    "FACT = Path(\"../data/processed/fact_sales.parquet\")"
   ]
  },
  {
   "cell_type": "code",
   "execution_count": 5,
   "id": "2a5ddcfe",
   "metadata": {},
   "outputs": [
    {
     "data": {
      "text/html": [
       "<i>naive plan: (run <b>LazyFrame.explain(optimized=True)</b> to see the optimized plan)</i>\n",
       "    <p></p>\n",
       "    <div>Parquet SCAN [..\\data\\processed\\fact_sales.parquet]<p></p>PROJECT */21 COLUMNS</div>"
      ],
      "text/plain": [
       "<LazyFrame at 0x20A77028C10>"
      ]
     },
     "execution_count": 5,
     "metadata": {},
     "output_type": "execute_result"
    }
   ],
   "source": [
    "# Lazy scan (no full load)\n",
    "lf = pl.scan_parquet(FACT)\n",
    "lf"
   ]
  },
  {
   "cell_type": "markdown",
   "id": "04cb8fd9",
   "metadata": {},
   "source": [
    "### Dates, uniques, control"
   ]
  },
  {
   "cell_type": "code",
   "execution_count": 9,
   "id": "5fdfcbd2",
   "metadata": {},
   "outputs": [
    {
     "data": {
      "text/html": [
       "<div><style>\n",
       ".dataframe > thead > tr,\n",
       ".dataframe > tbody > tr {\n",
       "  text-align: right;\n",
       "  white-space: pre-wrap;\n",
       "}\n",
       "</style>\n",
       "<small>shape: (1, 1)</small><table border=\"1\" class=\"dataframe\"><thead><tr><th>len</th></tr><tr><td>u32</td></tr></thead><tbody><tr><td>58327370</td></tr></tbody></table></div>"
      ],
      "text/plain": [
       "shape: (1, 1)\n",
       "┌──────────┐\n",
       "│ len      │\n",
       "│ ---      │\n",
       "│ u32      │\n",
       "╞══════════╡\n",
       "│ 58327370 │\n",
       "└──────────┘"
      ]
     },
     "execution_count": 9,
     "metadata": {},
     "output_type": "execute_result"
    }
   ],
   "source": [
    "# Small helper: count rows quickly\n",
    "lf.select(pl.len()).collect(engine='auto')"
   ]
  },
  {
   "cell_type": "code",
   "execution_count": 10,
   "id": "0bcd55b8",
   "metadata": {},
   "outputs": [
    {
     "data": {
      "text/html": [
       "<div><style>\n",
       ".dataframe > thead > tr,\n",
       ".dataframe > tbody > tr {\n",
       "  text-align: right;\n",
       "  white-space: pre-wrap;\n",
       "}\n",
       "</style>\n",
       "<small>shape: (1, 2)</small><table border=\"1\" class=\"dataframe\"><thead><tr><th>min_date</th><th>max_date</th></tr><tr><td>date</td><td>date</td></tr></thead><tbody><tr><td>2011-01-29</td><td>2016-04-24</td></tr></tbody></table></div>"
      ],
      "text/plain": [
       "shape: (1, 2)\n",
       "┌────────────┬────────────┐\n",
       "│ min_date   ┆ max_date   │\n",
       "│ ---        ┆ ---        │\n",
       "│ date       ┆ date       │\n",
       "╞════════════╪════════════╡\n",
       "│ 2011-01-29 ┆ 2016-04-24 │\n",
       "└────────────┴────────────┘"
      ]
     },
     "execution_count": 10,
     "metadata": {},
     "output_type": "execute_result"
    }
   ],
   "source": [
    "# Date range\n",
    "lf.select(pl.min(\"date\").alias(\"min_date\"), pl.max(\"date\").alias(\"max_date\")).collect(engine='auto')"
   ]
  },
  {
   "cell_type": "code",
   "execution_count": 12,
   "id": "fcd1b2e2",
   "metadata": {},
   "outputs": [
    {
     "data": {
      "text/html": [
       "<div><style>\n",
       ".dataframe > thead > tr,\n",
       ".dataframe > tbody > tr {\n",
       "  text-align: right;\n",
       "  white-space: pre-wrap;\n",
       "}\n",
       "</style>\n",
       "<small>shape: (1, 3)</small><table border=\"1\" class=\"dataframe\"><thead><tr><th>rows</th><th>n_series</th><th>n_id_date_pairs</th></tr><tr><td>u32</td><td>u32</td><td>u32</td></tr></thead><tbody><tr><td>58327370</td><td>30490</td><td>58327370</td></tr></tbody></table></div>"
      ],
      "text/plain": [
       "shape: (1, 3)\n",
       "┌──────────┬──────────┬─────────────────┐\n",
       "│ rows     ┆ n_series ┆ n_id_date_pairs │\n",
       "│ ---      ┆ ---      ┆ ---             │\n",
       "│ u32      ┆ u32      ┆ u32             │\n",
       "╞══════════╪══════════╪═════════════════╡\n",
       "│ 58327370 ┆ 30490    ┆ 58327370        │\n",
       "└──────────┴──────────┴─────────────────┘"
      ]
     },
     "execution_count": 12,
     "metadata": {},
     "output_type": "execute_result"
    }
   ],
   "source": [
    "# Unique series count and check 1 row per (id, date)\n",
    "n_pairs = lf.select(pl.len().alias(\"rows\"),\n",
    "                    pl.col(\"id\").n_unique().alias(\"n_series\"),\n",
    "                    pl.concat_str([pl.col(\"id\"), pl.col(\"date\").cast(pl.Utf8)], separator=\"|\").n_unique().alias(\"n_id_date_pairs\")\n",
    ").collect(engine='auto')\n",
    "n_pairs"
   ]
  },
  {
   "cell_type": "code",
   "execution_count": 14,
   "id": "564d02f4",
   "metadata": {},
   "outputs": [
    {
     "data": {
      "text/html": [
       "<div><style>\n",
       ".dataframe > thead > tr,\n",
       ".dataframe > tbody > tr {\n",
       "  text-align: right;\n",
       "  white-space: pre-wrap;\n",
       "}\n",
       "</style>\n",
       "<small>shape: (0, 3)</small><table border=\"1\" class=\"dataframe\"><thead><tr><th>id</th><th>date</th><th>cnt</th></tr><tr><td>str</td><td>date</td><td>u32</td></tr></thead><tbody></tbody></table></div>"
      ],
      "text/plain": [
       "shape: (0, 3)\n",
       "┌─────┬──────┬─────┐\n",
       "│ id  ┆ date ┆ cnt │\n",
       "│ --- ┆ ---  ┆ --- │\n",
       "│ str ┆ date ┆ u32 │\n",
       "╞═════╪══════╪═════╡\n",
       "└─────┴──────┴─────┘"
      ]
     },
     "execution_count": 14,
     "metadata": {},
     "output_type": "execute_result"
    }
   ],
   "source": [
    "# Duplicates\n",
    "dups = (\n",
    "    lf.group_by([\"id\",\"date\"])\n",
    "      .agg(pl.len().alias(\"cnt\"))\n",
    "      .filter(pl.col(\"cnt\") > 1)\n",
    "      .limit(5)\n",
    "      .collect(engine='auto')\n",
    ")\n",
    "dups"
   ]
  },
  {
   "cell_type": "markdown",
   "id": "98e1951c",
   "metadata": {},
   "source": [
    "### Missingness and joins"
   ]
  },
  {
   "cell_type": "code",
   "execution_count": 15,
   "id": "99d3a3ab",
   "metadata": {},
   "outputs": [
    {
     "data": {
      "text/html": [
       "<div><style>\n",
       ".dataframe > thead > tr,\n",
       ".dataframe > tbody > tr {\n",
       "  text-align: right;\n",
       "  white-space: pre-wrap;\n",
       "}\n",
       "</style>\n",
       "<small>shape: (1, 1)</small><table border=\"1\" class=\"dataframe\"><thead><tr><th>sell_price_null_rate</th></tr><tr><td>f64</td></tr></thead><tbody><tr><td>0.210869</td></tr></tbody></table></div>"
      ],
      "text/plain": [
       "shape: (1, 1)\n",
       "┌──────────────────────┐\n",
       "│ sell_price_null_rate │\n",
       "│ ---                  │\n",
       "│ f64                  │\n",
       "╞══════════════════════╡\n",
       "│ 0.210869             │\n",
       "└──────────────────────┘"
      ]
     },
     "execution_count": 15,
     "metadata": {},
     "output_type": "execute_result"
    }
   ],
   "source": [
    "# Overall null rate for sell_price\n",
    "null_rate = (\n",
    "    lf.select(((pl.col(\"sell_price\").is_null()).cast(pl.Int8).sum() / pl.len()).alias(\"sell_price_null_rate\"))\n",
    "      .collect(engine='auto')\n",
    ")\n",
    "null_rate"
   ]
  },
  {
   "cell_type": "code",
   "execution_count": 16,
   "id": "afc962e3",
   "metadata": {},
   "outputs": [
    {
     "data": {
      "text/html": [
       "<div><style>\n",
       ".dataframe > thead > tr,\n",
       ".dataframe > tbody > tr {\n",
       "  text-align: right;\n",
       "  white-space: pre-wrap;\n",
       "}\n",
       "</style>\n",
       "<small>shape: (6, 4)</small><table border=\"1\" class=\"dataframe\"><thead><tr><th>year</th><th>n</th><th>nulls</th><th>null_rate</th></tr><tr><td>i64</td><td>u32</td><td>u32</td><td>f64</td></tr></thead><tbody><tr><td>2011</td><td>10275130</td><td>5167100</td><td>0.502874</td></tr><tr><td>2012</td><td>11159340</td><td>3933782</td><td>0.35251</td></tr><tr><td>2013</td><td>11128850</td><td>2259520</td><td>0.203033</td></tr><tr><td>2014</td><td>11128850</td><td>839570</td><td>0.075441</td></tr><tr><td>2015</td><td>11128850</td><td>98928</td><td>0.008889</td></tr><tr><td>2016</td><td>3506350</td><td>513</td><td>0.000146</td></tr></tbody></table></div>"
      ],
      "text/plain": [
       "shape: (6, 4)\n",
       "┌──────┬──────────┬─────────┬───────────┐\n",
       "│ year ┆ n        ┆ nulls   ┆ null_rate │\n",
       "│ ---  ┆ ---      ┆ ---     ┆ ---       │\n",
       "│ i64  ┆ u32      ┆ u32     ┆ f64       │\n",
       "╞══════╪══════════╪═════════╪═══════════╡\n",
       "│ 2011 ┆ 10275130 ┆ 5167100 ┆ 0.502874  │\n",
       "│ 2012 ┆ 11159340 ┆ 3933782 ┆ 0.35251   │\n",
       "│ 2013 ┆ 11128850 ┆ 2259520 ┆ 0.203033  │\n",
       "│ 2014 ┆ 11128850 ┆ 839570  ┆ 0.075441  │\n",
       "│ 2015 ┆ 11128850 ┆ 98928   ┆ 0.008889  │\n",
       "│ 2016 ┆ 3506350  ┆ 513     ┆ 0.000146  │\n",
       "└──────┴──────────┴─────────┴───────────┘"
      ]
     },
     "execution_count": 16,
     "metadata": {},
     "output_type": "execute_result"
    }
   ],
   "source": [
    "# Null rate by year \n",
    "by_year = (\n",
    "    lf.group_by(\"year\")\n",
    "      .agg(\n",
    "          pl.len().alias(\"n\"),\n",
    "          pl.col(\"sell_price\").is_null().sum().alias(\"nulls\")\n",
    "      )\n",
    "      .with_columns((pl.col(\"nulls\")/pl.col(\"n\")).alias(\"null_rate\"))\n",
    "      .sort(\"year\")\n",
    "      .collect(engine='auto')\n",
    ")\n",
    "by_year"
   ]
  },
  {
   "cell_type": "markdown",
   "id": "3cb0beef",
   "metadata": {},
   "source": [
    "### Validation"
   ]
  },
  {
   "cell_type": "code",
   "execution_count": 18,
   "id": "07f55205",
   "metadata": {},
   "outputs": [
    {
     "data": {
      "text/plain": [
       "(shape: (1, 1)\n",
       " ┌─────┐\n",
       " │ len │\n",
       " │ --- │\n",
       " │ u32 │\n",
       " ╞═════╡\n",
       " │ 0   │\n",
       " └─────┘,\n",
       " shape: (1, 3)\n",
       " ┌──────────┬──────────┬───────────┐\n",
       " │ zeros    ┆ n        ┆ zero_rate │\n",
       " │ ---      ┆ ---      ┆ ---       │\n",
       " │ i64      ┆ u32      ┆ f64       │\n",
       " ╞══════════╪══════════╪═══════════╡\n",
       " │ 39777094 ┆ 58327370 ┆ 0.681963  │\n",
       " └──────────┴──────────┴───────────┘)"
      ]
     },
     "execution_count": 18,
     "metadata": {},
     "output_type": "execute_result"
    }
   ],
   "source": [
    "neg = lf.filter(pl.col(\"qty\") < 0).select(pl.len()).collect(engine='auto')\n",
    "\n",
    "# Share of zeros (ile zer – ważne w retail)\n",
    "zero_share = (\n",
    "    lf.select((pl.col(\"qty\") == 0).cast(pl.Int8).sum().alias(\"zeros\"), pl.len().alias(\"n\"))\n",
    "      .with_columns((pl.col(\"zeros\")/pl.col(\"n\")).alias(\"zero_rate\"))\n",
    "      .collect(engine='auto')\n",
    ")\n",
    "neg, zero_share"
   ]
  },
  {
   "cell_type": "markdown",
   "id": "41b94877",
   "metadata": {},
   "source": [
    "### Seasonality"
   ]
  },
  {
   "cell_type": "code",
   "execution_count": null,
   "id": "a042ffb6",
   "metadata": {},
   "outputs": [
    {
     "data": {
      "text/html": [
       "<div><style>\n",
       ".dataframe > thead > tr,\n",
       ".dataframe > tbody > tr {\n",
       "  text-align: right;\n",
       "  white-space: pre-wrap;\n",
       "}\n",
       "</style>\n",
       "<small>shape: (7, 2)</small><table border=\"1\" class=\"dataframe\"><thead><tr><th>wday</th><th>qty_total</th></tr><tr><td>i64</td><td>i32</td></tr></thead><tbody><tr><td>1</td><td>11383849</td></tr><tr><td>2</td><td>11269626</td></tr><tr><td>3</td><td>8968860</td></tr><tr><td>4</td><td>8290677</td></tr><tr><td>5</td><td>8192736</td></tr><tr><td>6</td><td>8245967</td></tr><tr><td>7</td><td>9343694</td></tr></tbody></table></div>"
      ],
      "text/plain": [
       "shape: (7, 2)\n",
       "┌──────┬───────────┐\n",
       "│ wday ┆ qty_total │\n",
       "│ ---  ┆ ---       │\n",
       "│ i64  ┆ i32       │\n",
       "╞══════╪═══════════╡\n",
       "│ 1    ┆ 11383849  │\n",
       "│ 2    ┆ 11269626  │\n",
       "│ 3    ┆ 8968860   │\n",
       "│ 4    ┆ 8290677   │\n",
       "│ 5    ┆ 8192736   │\n",
       "│ 6    ┆ 8245967   │\n",
       "│ 7    ┆ 9343694   │\n",
       "└──────┴───────────┘"
      ]
     },
     "execution_count": 19,
     "metadata": {},
     "output_type": "execute_result"
    }
   ],
   "source": [
    "# Daily total by weekday (1..7)\n",
    "weekday_profile = (\n",
    "    lf.group_by(\"wday\")\n",
    "      .agg(pl.col(\"qty\").sum().alias(\"qty_total\"))\n",
    "      .sort(\"wday\")\n",
    "      .collect(engine='auto')\n",
    ")\n",
    "weekday_profile\n",
    "\n",
    "\n",
    "#TODO: export for viz in pbi"
   ]
  },
  {
   "cell_type": "code",
   "execution_count": null,
   "id": "069bfb05",
   "metadata": {},
   "outputs": [
    {
     "data": {
      "text/html": [
       "<div><style>\n",
       ".dataframe > thead > tr,\n",
       ".dataframe > tbody > tr {\n",
       "  text-align: right;\n",
       "  white-space: pre-wrap;\n",
       "}\n",
       "</style>\n",
       "<small>shape: (1, 1)</small><table border=\"1\" class=\"dataframe\"><thead><tr><th>wm_yr_wk_nulls</th></tr><tr><td>u32</td></tr></thead><tbody><tr><td>0</td></tr></tbody></table></div>"
      ],
      "text/plain": [
       "shape: (1, 1)\n",
       "┌────────────────┐\n",
       "│ wm_yr_wk_nulls │\n",
       "│ ---            │\n",
       "│ u32            │\n",
       "╞════════════════╡\n",
       "│ 0              │\n",
       "└────────────────┘"
      ]
     },
     "execution_count": 21,
     "metadata": {},
     "output_type": "execute_result"
    }
   ],
   "source": [
    "\n",
    "wm_nulls = lf.select(pl.col(\"wm_yr_wk\").is_null().sum().alias(\"wm_yr_wk_nulls\")).collect(engine='auto')\n",
    "wm_nulls\n"
   ]
  },
  {
   "cell_type": "code",
   "execution_count": 23,
   "id": "bd617af2",
   "metadata": {},
   "outputs": [
    {
     "data": {
      "text/plain": [
       "(956500, 21)"
      ]
     },
     "execution_count": 23,
     "metadata": {},
     "output_type": "execute_result"
    }
   ],
   "source": [
    "import os\n",
    "DEBUG_N_SERIES = int(os.getenv(\"DEBUG_N_SERIES\", \"500\"))\n",
    "\n",
    "# Pick top N series by total volume\n",
    "topN_ids = (\n",
    "    lf.group_by(\"id\").agg(pl.col(\"qty\").sum().alias(\"tot\"))\n",
    "      .sort(pl.col(\"tot\"), descending=True)\n",
    "      .limit(DEBUG_N_SERIES)\n",
    "      .select(\"id\")\n",
    "      .collect(engine='auto')\n",
    ")\n",
    "\n",
    "ids_list = topN_ids.get_column(\"id\").to_list()\n",
    "\n",
    "subset = (\n",
    "    lf.filter(pl.col(\"id\").is_in(ids_list))\n",
    "      .collect(engine='auto')\n",
    ")\n",
    "\n",
    "subset.shape  # sanity\n"
   ]
  },
  {
   "cell_type": "code",
   "execution_count": null,
   "id": "47558686",
   "metadata": {},
   "outputs": [],
   "source": []
  }
 ],
 "metadata": {
  "kernelspec": {
   "display_name": ".venv",
   "language": "python",
   "name": "python3"
  },
  "language_info": {
   "codemirror_mode": {
    "name": "ipython",
    "version": 3
   },
   "file_extension": ".py",
   "mimetype": "text/x-python",
   "name": "python",
   "nbconvert_exporter": "python",
   "pygments_lexer": "ipython3",
   "version": "3.11.3"
  }
 },
 "nbformat": 4,
 "nbformat_minor": 5
}
